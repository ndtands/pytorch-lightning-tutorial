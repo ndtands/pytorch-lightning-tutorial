{
 "cells": [
  {
   "cell_type": "code",
   "execution_count": null,
   "metadata": {},
   "outputs": [],
   "source": [
    "import onnxruntime\n",
    "import numpy as np\n",
    "file\n",
    "\n",
    "ort_session = onnxruntime.InferenceSession(filepath)\n",
    "input_name = ort_session.get_inputs()[0].name\n",
    "ort_inputs = {input_name: np.random.randn(1, 64)}\n",
    "ort_outs = ort_session.run(None, ort_inputs)"
   ]
  }
 ],
 "metadata": {
  "language_info": {
   "name": "python"
  },
  "orig_nbformat": 4
 },
 "nbformat": 4,
 "nbformat_minor": 2
}
