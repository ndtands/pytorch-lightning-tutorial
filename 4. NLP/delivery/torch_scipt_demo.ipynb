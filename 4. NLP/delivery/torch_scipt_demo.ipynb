{
 "cells": [
  {
   "cell_type": "code",
   "execution_count": null,
   "metadata": {},
   "outputs": [],
   "source": [
    "import torch\n",
    "from pytorch_lightning import LightningModule"
   ]
  },
  {
   "cell_type": "code",
   "execution_count": null,
   "metadata": {},
   "outputs": [],
   "source": [
    "class SimpleModel(LightningModule):\n",
    "    def __init__(self):\n",
    "        super().__init__()\n",
    "        self.l1 = torch.nn.Linear(in_features=64, out_features=4)\n",
    "\n",
    "    def forward(self, x):\n",
    "        return torch.relu(self.l1(x.view(x.size(0), -1)))\n",
    "\n",
    "\n",
    "# create the model\n",
    "model = SimpleModel()\n",
    "script = model.to_torchscript()\n",
    "\n",
    "# save for use in production environment\n",
    "torch.jit.save(script, \"model.pt\")"
   ]
  },
  {
   "cell_type": "code",
   "execution_count": null,
   "metadata": {},
   "outputs": [],
   "source": [
    "class LitMCdropoutModel(LightningModule):\n",
    "    def __init__(self, model, mc_iteration):\n",
    "        super().__init__()\n",
    "        self.model = model\n",
    "        self.dropout = torch.nn.Dropout()\n",
    "        self.mc_iteration = mc_iteration\n",
    "\n",
    "    @torch.jit.export\n",
    "    def predict_step(self, batch, batch_idx):\n",
    "        # enable Monte Carlo Dropout\n",
    "        self.dropout.train()\n",
    "\n",
    "        # take average of `self.mc_iteration` iterations\n",
    "        pred = [self.dropout(self.model(batch)).unsqueeze(0) for _ in range(self.mc_iteration)]\n",
    "        pred = torch.vstack(pred).mean(dim=0)\n",
    "        return pred\n",
    "\n",
    "\n",
    "model = LitMCdropoutModel(...)\n",
    "script = model.to_torchscript(file_path=\"model.pt\", method=\"script\")"
   ]
  },
  {
   "cell_type": "code",
   "execution_count": null,
   "metadata": {},
   "outputs": [],
   "source": []
  }
 ],
 "metadata": {
  "kernelspec": {
   "display_name": "ndt98",
   "language": "python",
   "name": "python3"
  },
  "language_info": {
   "codemirror_mode": {
    "name": "ipython",
    "version": 3
   },
   "file_extension": ".py",
   "mimetype": "text/x-python",
   "name": "python",
   "nbconvert_exporter": "python",
   "pygments_lexer": "ipython3",
   "version": "3.8.10"
  },
  "orig_nbformat": 4,
  "vscode": {
   "interpreter": {
    "hash": "d9527af22cb6c08264d8618fd63c59f3bb6de63220d210e4091e844c258321a9"
   }
  }
 },
 "nbformat": 4,
 "nbformat_minor": 2
}
